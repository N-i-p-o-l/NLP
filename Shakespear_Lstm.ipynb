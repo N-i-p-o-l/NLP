{
  "nbformat": 4,
  "nbformat_minor": 0,
  "metadata": {
    "accelerator": "TPU",
    "colab": {
      "name": "Copy of NLP_Week4_Exercise_Shakespeare_Answer.ipynb",
      "provenance": []
    },
    "kernelspec": {
      "display_name": "Python 3",
      "name": "python3"
    }
  },
  "cells": [
    {
      "cell_type": "code",
      "metadata": {
        "id": "zX4Kg8DUTKWO",
        "colab_type": "code",
        "colab": {}
      },
      "source": [
        "#@title Licensed under the Apache License, Version 2.0 (the \"License\");\n",
        "# you may not use this file except in compliance with the License.\n",
        "# You may obtain a copy of the License at\n",
        "#\n",
        "# https://www.apache.org/licenses/LICENSE-2.0\n",
        "#\n",
        "# Unless required by applicable law or agreed to in writing, software\n",
        "# distributed under the License is distributed on an \"AS IS\" BASIS,\n",
        "# WITHOUT WARRANTIES OR CONDITIONS OF ANY KIND, either express or implied.\n",
        "# See the License for the specific language governing permissions and\n",
        "# limitations under the License."
      ],
      "execution_count": null,
      "outputs": []
    },
    {
      "cell_type": "code",
      "metadata": {
        "colab_type": "code",
        "id": "BOwsuGQQY9OL",
        "colab": {}
      },
      "source": [
        "from tensorflow.keras.preprocessing.sequence import pad_sequences\n",
        "from tensorflow.keras.layers import Embedding, LSTM, Dense, Dropout, Bidirectional\n",
        "from tensorflow.keras.preprocessing.text import Tokenizer\n",
        "from tensorflow.keras.models import Sequential\n",
        "from tensorflow.keras.optimizers import Adam\n",
        "from tensorflow.keras import regularizers\n",
        "import tensorflow.keras.utils as ku \n",
        "import numpy as np "
      ],
      "execution_count": null,
      "outputs": []
    },
    {
      "cell_type": "code",
      "metadata": {
        "colab_type": "code",
        "id": "PRnDnCW-Z7qv",
        "colab": {
          "base_uri": "https://localhost:8080/",
          "height": 202
        },
        "outputId": "08053e12-c1a5-49f2-90e1-418c7dd7fb64"
      },
      "source": [
        "tokenizer = Tokenizer()\n",
        "!wget --no-check-certificate \\\n",
        "    https://storage.googleapis.com/laurencemoroney-blog.appspot.com/sonnets.txt \\\n",
        "    -O /tmp/sonnets.txt\n",
        "data = open('/tmp/sonnets.txt').read()\n",
        "\n",
        "corpus = data.lower().split(\"\\n\")\n",
        "\n",
        "\n",
        "tokenizer.fit_on_texts(corpus)\n",
        "total_words = len(tokenizer.word_index) + 1\n",
        "\n",
        "# create input sequences using list of tokens\n",
        "input_sequences = []\n",
        "for line in corpus:\n",
        "\ttoken_list = tokenizer.texts_to_sequences([line])[0]\n",
        "\tfor i in range(1, len(token_list)):\n",
        "\t\tn_gram_sequence = token_list[:i+1]\n",
        "\t\tinput_sequences.append(n_gram_sequence)\n",
        "\n",
        "\n",
        "# pad sequences \n",
        "max_sequence_len = max([len(x) for x in input_sequences])\n",
        "input_sequences = np.array(pad_sequences(input_sequences, maxlen=max_sequence_len, padding='pre'))\n",
        "\n",
        "# create predictors and label\n",
        "predictors, label = input_sequences[:,:-1],input_sequences[:,-1]\n",
        "\n",
        "label = ku.to_categorical(label, num_classes=total_words)"
      ],
      "execution_count": null,
      "outputs": [
        {
          "output_type": "stream",
          "text": [
            "--2020-06-16 16:23:44--  https://storage.googleapis.com/laurencemoroney-blog.appspot.com/sonnets.txt\n",
            "Resolving storage.googleapis.com (storage.googleapis.com)... 108.177.121.128, 2607:f8b0:4001:c08::80\n",
            "Connecting to storage.googleapis.com (storage.googleapis.com)|108.177.121.128|:443... connected.\n",
            "HTTP request sent, awaiting response... 200 OK\n",
            "Length: 93578 (91K) [text/plain]\n",
            "Saving to: ‘/tmp/sonnets.txt’\n",
            "\n",
            "\r/tmp/sonnets.txt      0%[                    ]       0  --.-KB/s               \r/tmp/sonnets.txt    100%[===================>]  91.38K  --.-KB/s    in 0.002s  \n",
            "\n",
            "2020-06-16 16:23:44 (45.4 MB/s) - ‘/tmp/sonnets.txt’ saved [93578/93578]\n",
            "\n"
          ],
          "name": "stdout"
        }
      ]
    },
    {
      "cell_type": "code",
      "metadata": {
        "colab_type": "code",
        "id": "w9vH8Y59ajYL",
        "colab": {
          "base_uri": "https://localhost:8080/",
          "height": 370
        },
        "outputId": "924fd341-5bf6-48b8-8ab0-082be7e9a667"
      },
      "source": [
        "model = Sequential()\n",
        "model.add(Embedding(total_words, 100, input_length=max_sequence_len-1))\n",
        "model.add(Bidirectional(LSTM(150, return_sequences = True)))\n",
        "model.add(Dropout(0.2))\n",
        "model.add(LSTM(100))\n",
        "model.add(Dense(total_words/2, activation='relu', kernel_regularizer=regularizers.l2(0.01)))\n",
        "model.add(Dense(total_words, activation='softmax'))\n",
        "model.compile(loss='categorical_crossentropy', optimizer='adam', metrics=['accuracy'])\n",
        "print(model.summary())\n"
      ],
      "execution_count": null,
      "outputs": [
        {
          "output_type": "stream",
          "text": [
            "Model: \"sequential\"\n",
            "_________________________________________________________________\n",
            "Layer (type)                 Output Shape              Param #   \n",
            "=================================================================\n",
            "embedding (Embedding)        (None, 10, 100)           321100    \n",
            "_________________________________________________________________\n",
            "bidirectional (Bidirectional (None, 10, 300)           301200    \n",
            "_________________________________________________________________\n",
            "dropout (Dropout)            (None, 10, 300)           0         \n",
            "_________________________________________________________________\n",
            "lstm_1 (LSTM)                (None, 100)               160400    \n",
            "_________________________________________________________________\n",
            "dense (Dense)                (None, 1605)              162105    \n",
            "_________________________________________________________________\n",
            "dense_1 (Dense)              (None, 3211)              5156866   \n",
            "=================================================================\n",
            "Total params: 6,101,671\n",
            "Trainable params: 6,101,671\n",
            "Non-trainable params: 0\n",
            "_________________________________________________________________\n",
            "None\n"
          ],
          "name": "stdout"
        }
      ]
    },
    {
      "cell_type": "code",
      "metadata": {
        "colab_type": "code",
        "id": "AIg2f1HBxqof",
        "colab": {
          "base_uri": "https://localhost:8080/",
          "height": 1000
        },
        "outputId": "6b8e32e9-4799-4d46-e859-d44ada2ce92d"
      },
      "source": [
        " history = model.fit(predictors, label, epochs=100, verbose=1)"
      ],
      "execution_count": 5,
      "outputs": [
        {
          "output_type": "stream",
          "text": [
            "Epoch 1/100\n",
            "484/484 [==============================] - 54s 111ms/step - loss: 6.9021 - accuracy: 0.0214\n",
            "Epoch 2/100\n",
            "484/484 [==============================] - 54s 111ms/step - loss: 6.5019 - accuracy: 0.0220\n",
            "Epoch 3/100\n",
            "484/484 [==============================] - 54s 112ms/step - loss: 6.4124 - accuracy: 0.0243\n",
            "Epoch 4/100\n",
            "484/484 [==============================] - 55s 114ms/step - loss: 6.2964 - accuracy: 0.0287\n",
            "Epoch 5/100\n",
            "484/484 [==============================] - 55s 113ms/step - loss: 6.1947 - accuracy: 0.0340\n",
            "Epoch 6/100\n",
            "484/484 [==============================] - 54s 111ms/step - loss: 6.1105 - accuracy: 0.0382\n",
            "Epoch 7/100\n",
            "484/484 [==============================] - 55s 113ms/step - loss: 6.0385 - accuracy: 0.0416\n",
            "Epoch 8/100\n",
            "484/484 [==============================] - 55s 113ms/step - loss: 5.9705 - accuracy: 0.0443\n",
            "Epoch 9/100\n",
            "484/484 [==============================] - 54s 112ms/step - loss: 5.8872 - accuracy: 0.0483\n",
            "Epoch 10/100\n",
            "484/484 [==============================] - 55s 114ms/step - loss: 5.7948 - accuracy: 0.0540\n",
            "Epoch 11/100\n",
            "484/484 [==============================] - 54s 112ms/step - loss: 5.7026 - accuracy: 0.0596\n",
            "Epoch 12/100\n",
            "484/484 [==============================] - 55s 113ms/step - loss: 5.6065 - accuracy: 0.0650\n",
            "Epoch 13/100\n",
            "484/484 [==============================] - 54s 113ms/step - loss: 5.5121 - accuracy: 0.0692\n",
            "Epoch 14/100\n",
            "484/484 [==============================] - 54s 111ms/step - loss: 5.4168 - accuracy: 0.0745\n",
            "Epoch 15/100\n",
            "484/484 [==============================] - 53s 110ms/step - loss: 5.3254 - accuracy: 0.0806\n",
            "Epoch 16/100\n",
            "484/484 [==============================] - 54s 111ms/step - loss: 5.2329 - accuracy: 0.0848\n",
            "Epoch 17/100\n",
            "484/484 [==============================] - 54s 111ms/step - loss: 5.1382 - accuracy: 0.0942\n",
            "Epoch 18/100\n",
            "484/484 [==============================] - 54s 111ms/step - loss: 5.0458 - accuracy: 0.1006\n",
            "Epoch 19/100\n",
            "484/484 [==============================] - 54s 111ms/step - loss: 4.9440 - accuracy: 0.1053\n",
            "Epoch 20/100\n",
            "484/484 [==============================] - 54s 111ms/step - loss: 4.8449 - accuracy: 0.1126\n",
            "Epoch 21/100\n",
            "484/484 [==============================] - 53s 110ms/step - loss: 4.7497 - accuracy: 0.1213\n",
            "Epoch 22/100\n",
            "484/484 [==============================] - 54s 111ms/step - loss: 4.6518 - accuracy: 0.1279\n",
            "Epoch 23/100\n",
            "484/484 [==============================] - 54s 111ms/step - loss: 4.5608 - accuracy: 0.1379\n",
            "Epoch 24/100\n",
            "484/484 [==============================] - 54s 111ms/step - loss: 4.4606 - accuracy: 0.1503\n",
            "Epoch 25/100\n",
            "484/484 [==============================] - 54s 111ms/step - loss: 4.3651 - accuracy: 0.1570\n",
            "Epoch 26/100\n",
            "484/484 [==============================] - 54s 111ms/step - loss: 4.2676 - accuracy: 0.1679\n",
            "Epoch 27/100\n",
            "484/484 [==============================] - 55s 113ms/step - loss: 4.1729 - accuracy: 0.1788\n",
            "Epoch 28/100\n",
            "484/484 [==============================] - 55s 114ms/step - loss: 4.0767 - accuracy: 0.1936\n",
            "Epoch 29/100\n",
            "484/484 [==============================] - 54s 112ms/step - loss: 3.9944 - accuracy: 0.2029\n",
            "Epoch 30/100\n",
            "484/484 [==============================] - 54s 112ms/step - loss: 3.8890 - accuracy: 0.2202\n",
            "Epoch 31/100\n",
            "484/484 [==============================] - 54s 111ms/step - loss: 3.8049 - accuracy: 0.2337\n",
            "Epoch 32/100\n",
            "484/484 [==============================] - 54s 111ms/step - loss: 3.7122 - accuracy: 0.2538\n",
            "Epoch 33/100\n",
            "484/484 [==============================] - 54s 112ms/step - loss: 3.6281 - accuracy: 0.2733\n",
            "Epoch 34/100\n",
            "484/484 [==============================] - 54s 112ms/step - loss: 3.5362 - accuracy: 0.2868\n",
            "Epoch 35/100\n",
            "484/484 [==============================] - 54s 112ms/step - loss: 3.4554 - accuracy: 0.3071\n",
            "Epoch 36/100\n",
            "484/484 [==============================] - 55s 113ms/step - loss: 3.3666 - accuracy: 0.3251\n",
            "Epoch 37/100\n",
            "484/484 [==============================] - 54s 111ms/step - loss: 3.2948 - accuracy: 0.3422\n",
            "Epoch 38/100\n",
            "484/484 [==============================] - 54s 112ms/step - loss: 3.2161 - accuracy: 0.3608\n",
            "Epoch 39/100\n",
            "484/484 [==============================] - 54s 111ms/step - loss: 3.1420 - accuracy: 0.3738\n",
            "Epoch 40/100\n",
            "484/484 [==============================] - 53s 110ms/step - loss: 3.0615 - accuracy: 0.3969\n",
            "Epoch 41/100\n",
            "484/484 [==============================] - 54s 112ms/step - loss: 2.9992 - accuracy: 0.4106\n",
            "Epoch 42/100\n",
            "484/484 [==============================] - 55s 113ms/step - loss: 2.9372 - accuracy: 0.4239\n",
            "Epoch 43/100\n",
            "484/484 [==============================] - 54s 111ms/step - loss: 2.8660 - accuracy: 0.4361\n",
            "Epoch 44/100\n",
            "484/484 [==============================] - 54s 111ms/step - loss: 2.8036 - accuracy: 0.4523\n",
            "Epoch 45/100\n",
            "484/484 [==============================] - 54s 112ms/step - loss: 2.7439 - accuracy: 0.4641\n",
            "Epoch 46/100\n",
            "484/484 [==============================] - 53s 110ms/step - loss: 2.6853 - accuracy: 0.4783\n",
            "Epoch 47/100\n",
            "484/484 [==============================] - 54s 113ms/step - loss: 2.6193 - accuracy: 0.4951\n",
            "Epoch 48/100\n",
            "484/484 [==============================] - 54s 112ms/step - loss: 2.5695 - accuracy: 0.5012\n",
            "Epoch 49/100\n",
            "484/484 [==============================] - 54s 111ms/step - loss: 2.5214 - accuracy: 0.5173\n",
            "Epoch 50/100\n",
            "484/484 [==============================] - 54s 112ms/step - loss: 2.4553 - accuracy: 0.5337\n",
            "Epoch 51/100\n",
            "484/484 [==============================] - 53s 110ms/step - loss: 2.4147 - accuracy: 0.5393\n",
            "Epoch 52/100\n",
            "484/484 [==============================] - 54s 111ms/step - loss: 2.3655 - accuracy: 0.5556\n",
            "Epoch 53/100\n",
            "484/484 [==============================] - 55s 113ms/step - loss: 2.3078 - accuracy: 0.5669\n",
            "Epoch 54/100\n",
            "484/484 [==============================] - 55s 113ms/step - loss: 2.2723 - accuracy: 0.5746\n",
            "Epoch 55/100\n",
            "484/484 [==============================] - 53s 110ms/step - loss: 2.2264 - accuracy: 0.5823\n",
            "Epoch 56/100\n",
            "484/484 [==============================] - 54s 111ms/step - loss: 2.1900 - accuracy: 0.5902\n",
            "Epoch 57/100\n",
            "484/484 [==============================] - 54s 112ms/step - loss: 2.1294 - accuracy: 0.6066\n",
            "Epoch 58/100\n",
            "484/484 [==============================] - 54s 111ms/step - loss: 2.1016 - accuracy: 0.6068\n",
            "Epoch 59/100\n",
            "484/484 [==============================] - 54s 112ms/step - loss: 2.0688 - accuracy: 0.6214\n",
            "Epoch 60/100\n",
            "484/484 [==============================] - 54s 111ms/step - loss: 2.0213 - accuracy: 0.6242\n",
            "Epoch 61/100\n",
            "484/484 [==============================] - 54s 111ms/step - loss: 1.9882 - accuracy: 0.6381\n",
            "Epoch 62/100\n",
            "484/484 [==============================] - 54s 111ms/step - loss: 1.9678 - accuracy: 0.6391\n",
            "Epoch 63/100\n",
            "484/484 [==============================] - 54s 111ms/step - loss: 1.9271 - accuracy: 0.6523\n",
            "Epoch 64/100\n",
            "484/484 [==============================] - 54s 111ms/step - loss: 1.8840 - accuracy: 0.6596\n",
            "Epoch 65/100\n",
            "484/484 [==============================] - 54s 111ms/step - loss: 1.8491 - accuracy: 0.6683\n",
            "Epoch 66/100\n",
            "484/484 [==============================] - 54s 111ms/step - loss: 1.8308 - accuracy: 0.6700\n",
            "Epoch 67/100\n",
            "484/484 [==============================] - 54s 111ms/step - loss: 1.7965 - accuracy: 0.6788\n",
            "Epoch 68/100\n",
            "484/484 [==============================] - 54s 112ms/step - loss: 1.7762 - accuracy: 0.6817\n",
            "Epoch 69/100\n",
            "484/484 [==============================] - 54s 111ms/step - loss: 1.7403 - accuracy: 0.6901\n",
            "Epoch 70/100\n",
            "484/484 [==============================] - 54s 111ms/step - loss: 1.7075 - accuracy: 0.6987\n",
            "Epoch 71/100\n",
            "484/484 [==============================] - 54s 111ms/step - loss: 1.6918 - accuracy: 0.7007\n",
            "Epoch 72/100\n",
            "484/484 [==============================] - 54s 111ms/step - loss: 1.6587 - accuracy: 0.7072\n",
            "Epoch 73/100\n",
            "484/484 [==============================] - 58s 120ms/step - loss: 1.6422 - accuracy: 0.7080\n",
            "Epoch 74/100\n",
            "484/484 [==============================] - 54s 111ms/step - loss: 1.6203 - accuracy: 0.7146\n",
            "Epoch 75/100\n",
            "484/484 [==============================] - 54s 112ms/step - loss: 1.5887 - accuracy: 0.7235\n",
            "Epoch 76/100\n",
            "484/484 [==============================] - 55s 113ms/step - loss: 1.5641 - accuracy: 0.7300\n",
            "Epoch 77/100\n",
            "484/484 [==============================] - 54s 112ms/step - loss: 1.5448 - accuracy: 0.7368\n",
            "Epoch 78/100\n",
            "484/484 [==============================] - 54s 111ms/step - loss: 1.5275 - accuracy: 0.7343\n",
            "Epoch 79/100\n",
            "484/484 [==============================] - 54s 111ms/step - loss: 1.5123 - accuracy: 0.7327\n",
            "Epoch 80/100\n",
            "484/484 [==============================] - 54s 111ms/step - loss: 1.4906 - accuracy: 0.7401\n",
            "Epoch 81/100\n",
            "484/484 [==============================] - 54s 111ms/step - loss: 1.4680 - accuracy: 0.7446\n",
            "Epoch 82/100\n",
            "484/484 [==============================] - 54s 111ms/step - loss: 1.4454 - accuracy: 0.7507\n",
            "Epoch 83/100\n",
            "484/484 [==============================] - 54s 111ms/step - loss: 1.4361 - accuracy: 0.7511\n",
            "Epoch 84/100\n",
            "484/484 [==============================] - 58s 120ms/step - loss: 1.4197 - accuracy: 0.7504\n",
            "Epoch 85/100\n",
            "484/484 [==============================] - 53s 109ms/step - loss: 1.3991 - accuracy: 0.7617\n",
            "Epoch 86/100\n",
            "484/484 [==============================] - 53s 109ms/step - loss: 1.3865 - accuracy: 0.7585\n",
            "Epoch 87/100\n",
            "484/484 [==============================] - 52s 108ms/step - loss: 1.3700 - accuracy: 0.7630\n",
            "Epoch 88/100\n",
            "484/484 [==============================] - 52s 108ms/step - loss: 1.3552 - accuracy: 0.7648\n",
            "Epoch 89/100\n",
            "484/484 [==============================] - 53s 109ms/step - loss: 1.3281 - accuracy: 0.7738\n",
            "Epoch 90/100\n",
            "484/484 [==============================] - 52s 108ms/step - loss: 1.3257 - accuracy: 0.7734\n",
            "Epoch 91/100\n",
            "484/484 [==============================] - 52s 108ms/step - loss: 1.3214 - accuracy: 0.7716\n",
            "Epoch 92/100\n",
            "484/484 [==============================] - 53s 109ms/step - loss: 1.2991 - accuracy: 0.7755\n",
            "Epoch 93/100\n",
            "484/484 [==============================] - 60s 124ms/step - loss: 1.2726 - accuracy: 0.7817\n",
            "Epoch 94/100\n",
            "484/484 [==============================] - 55s 113ms/step - loss: 1.2614 - accuracy: 0.7859\n",
            "Epoch 95/100\n",
            "484/484 [==============================] - 54s 112ms/step - loss: 1.2651 - accuracy: 0.7824\n",
            "Epoch 96/100\n",
            "484/484 [==============================] - 60s 124ms/step - loss: 1.2584 - accuracy: 0.7804\n",
            "Epoch 97/100\n",
            "484/484 [==============================] - 55s 113ms/step - loss: 1.2429 - accuracy: 0.7846\n",
            "Epoch 98/100\n",
            "484/484 [==============================] - 54s 112ms/step - loss: 1.2341 - accuracy: 0.7868\n",
            "Epoch 99/100\n",
            "484/484 [==============================] - 55s 113ms/step - loss: 1.2064 - accuracy: 0.7927\n",
            "Epoch 100/100\n",
            "484/484 [==============================] - 55s 113ms/step - loss: 1.1971 - accuracy: 0.7929\n"
          ],
          "name": "stdout"
        }
      ]
    },
    {
      "cell_type": "code",
      "metadata": {
        "colab_type": "code",
        "id": "1fXTEO3GJ282",
        "colab": {
          "base_uri": "https://localhost:8080/",
          "height": 545
        },
        "outputId": "42972426-22d3-44f4-d48e-dee60dd8e310"
      },
      "source": [
        "import matplotlib.pyplot as plt\n",
        "acc = history.history['accuracy']\n",
        "loss = history.history['loss']\n",
        "\n",
        "epochs = range(len(acc))\n",
        "\n",
        "plt.plot(epochs, acc, 'b', label='Training accuracy')\n",
        "plt.title('Training accuracy')\n",
        "\n",
        "plt.figure()\n",
        "\n",
        "plt.plot(epochs, loss, 'b', label='Training Loss')\n",
        "plt.title('Training loss')\n",
        "plt.legend()\n",
        "\n",
        "plt.show()"
      ],
      "execution_count": 6,
      "outputs": [
        {
          "output_type": "display_data",
          "data": {
            "image/png": "[encoded data removed]",
            "text/plain": [
              "<Figure size 432x288 with 1 Axes>"
            ]
          },
          "metadata": {
            "tags": [],
            "needs_background": "light"
          }
        },
        {
          "output_type": "display_data",
          "data": {
            "image/png": "[encoded data removed]",
            "text/plain": [
              "<Figure size 432x288 with 1 Axes>"
            ]
          },
          "metadata": {
            "tags": [],
            "needs_background": "light"
          }
        }
      ]
    },
    {
      "cell_type": "code",
      "metadata": {
        "colab_type": "code",
        "id": "6Vc6PHgxa6Hm",
        "colab": {
          "base_uri": "https://localhost:8080/",
          "height": 104
        },
        "outputId": "46f51f81-607d-4889-d483-a9765356e4ea"
      },
      "source": [
        "seed_text = \"Help me Obi Wan Kenobi, you're my only hope\"\n",
        "next_words = 100\n",
        "  \n",
        "for _ in range(next_words):\n",
        "\ttoken_list = tokenizer.texts_to_sequences([seed_text])[0]\n",
        "\ttoken_list = pad_sequences([token_list], maxlen=max_sequence_len-1, padding='pre')\n",
        "\tpredicted = model.predict_classes(token_list, verbose=0)\n",
        "\toutput_word = \"\"\n",
        "\tfor word, index in tokenizer.word_index.items():\n",
        "\t\tif index == predicted:\n",
        "\t\t\toutput_word = word\n",
        "\t\t\tbreak\n",
        "\tseed_text += \" \" + output_word\n",
        "print(seed_text)"
      ],
      "execution_count": 7,
      "outputs": [
        {
          "output_type": "stream",
          "text": [
            "WARNING:tensorflow:From <ipython-input-7-622d307fa19a>:7: Sequential.predict_classes (from tensorflow.python.keras.engine.sequential) is deprecated and will be removed after 2021-01-01.\n",
            "Instructions for updating:\n",
            "Please use instead:* `np.argmax(model.predict(x), axis=-1)`,   if your model does multi-class classification   (e.g. if it uses a `softmax` last-layer activation).* `(model.predict(x) > 0.5).astype(\"int32\")`,   if your model does binary classification   (e.g. if it uses a `sigmoid` last-layer activation).\n",
            "Help me Obi Wan Kenobi, you're my only hope his thought more perjured lie to thee of too hell that look you lack of words ride date new ill young well or memory new dear friend eyes will you thine friend not not not love's friend too words that show thee young hell of best so gone out he so write her eyes of eyes false days night will read new allow torn out thee for all memory true ' find thine friend have live do live you live still of every pen hate days lose groan still me being out to trust thee so so much show thee\n"
          ],
          "name": "stdout"
        }
      ]
    }
  ]
}